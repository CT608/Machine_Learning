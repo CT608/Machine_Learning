{
 "cells": [
  {
   "cell_type": "code",
   "execution_count": 1,
   "id": "af1e88fb",
   "metadata": {},
   "outputs": [],
   "source": [
    "import pandas as pd\n",
    "import numpy as np\n",
    "import matplotlib.pyplot as plt\n",
    "import seaborn as sns\n",
    "import math as mt\n",
    "from scipy.stats import norm"
   ]
  },
  {
   "cell_type": "markdown",
   "id": "685e0cd3",
   "metadata": {},
   "source": [
    "# Data processing"
   ]
  },
  {
   "cell_type": "markdown",
   "id": "6e345924",
   "metadata": {},
   "source": [
    "## import data"
   ]
  },
  {
   "cell_type": "code",
   "execution_count": 2,
   "id": "135caa69",
   "metadata": {},
   "outputs": [
    {
     "data": {
      "text/html": [
       "<div>\n",
       "<style scoped>\n",
       "    .dataframe tbody tr th:only-of-type {\n",
       "        vertical-align: middle;\n",
       "    }\n",
       "\n",
       "    .dataframe tbody tr th {\n",
       "        vertical-align: top;\n",
       "    }\n",
       "\n",
       "    .dataframe thead th {\n",
       "        text-align: right;\n",
       "    }\n",
       "</style>\n",
       "<table border=\"1\" class=\"dataframe\">\n",
       "  <thead>\n",
       "    <tr style=\"text-align: right;\">\n",
       "      <th></th>\n",
       "      <th>user_id</th>\n",
       "      <th>date</th>\n",
       "      <th>source</th>\n",
       "      <th>device</th>\n",
       "      <th>browser_language</th>\n",
       "      <th>ads_channel</th>\n",
       "      <th>browser</th>\n",
       "      <th>conversion</th>\n",
       "      <th>test</th>\n",
       "    </tr>\n",
       "  </thead>\n",
       "  <tbody>\n",
       "    <tr>\n",
       "      <th>0</th>\n",
       "      <td>315281</td>\n",
       "      <td>2015-12-03</td>\n",
       "      <td>Direct</td>\n",
       "      <td>Web</td>\n",
       "      <td>ES</td>\n",
       "      <td>NaN</td>\n",
       "      <td>IE</td>\n",
       "      <td>1</td>\n",
       "      <td>0</td>\n",
       "    </tr>\n",
       "    <tr>\n",
       "      <th>1</th>\n",
       "      <td>497851</td>\n",
       "      <td>2015-12-04</td>\n",
       "      <td>Ads</td>\n",
       "      <td>Web</td>\n",
       "      <td>ES</td>\n",
       "      <td>Google</td>\n",
       "      <td>IE</td>\n",
       "      <td>0</td>\n",
       "      <td>1</td>\n",
       "    </tr>\n",
       "    <tr>\n",
       "      <th>2</th>\n",
       "      <td>848402</td>\n",
       "      <td>2015-12-04</td>\n",
       "      <td>Ads</td>\n",
       "      <td>Web</td>\n",
       "      <td>ES</td>\n",
       "      <td>Facebook</td>\n",
       "      <td>Chrome</td>\n",
       "      <td>0</td>\n",
       "      <td>0</td>\n",
       "    </tr>\n",
       "    <tr>\n",
       "      <th>3</th>\n",
       "      <td>290051</td>\n",
       "      <td>2015-12-03</td>\n",
       "      <td>Ads</td>\n",
       "      <td>Mobile</td>\n",
       "      <td>Other</td>\n",
       "      <td>Facebook</td>\n",
       "      <td>Android_App</td>\n",
       "      <td>0</td>\n",
       "      <td>1</td>\n",
       "    </tr>\n",
       "    <tr>\n",
       "      <th>4</th>\n",
       "      <td>548435</td>\n",
       "      <td>2015-11-30</td>\n",
       "      <td>Ads</td>\n",
       "      <td>Web</td>\n",
       "      <td>ES</td>\n",
       "      <td>Google</td>\n",
       "      <td>FireFox</td>\n",
       "      <td>0</td>\n",
       "      <td>1</td>\n",
       "    </tr>\n",
       "  </tbody>\n",
       "</table>\n",
       "</div>"
      ],
      "text/plain": [
       "   user_id        date  source  device browser_language ads_channel  \\\n",
       "0   315281  2015-12-03  Direct     Web               ES         NaN   \n",
       "1   497851  2015-12-04     Ads     Web               ES      Google   \n",
       "2   848402  2015-12-04     Ads     Web               ES    Facebook   \n",
       "3   290051  2015-12-03     Ads  Mobile            Other    Facebook   \n",
       "4   548435  2015-11-30     Ads     Web               ES      Google   \n",
       "\n",
       "       browser  conversion  test  \n",
       "0           IE           1     0  \n",
       "1           IE           0     1  \n",
       "2       Chrome           0     0  \n",
       "3  Android_App           0     1  \n",
       "4      FireFox           0     1  "
      ]
     },
     "execution_count": 2,
     "metadata": {},
     "output_type": "execute_result"
    }
   ],
   "source": [
    "data = pd.read_csv(\"test_table.csv\")\n",
    "data.head()"
   ]
  },
  {
   "cell_type": "code",
   "execution_count": 3,
   "id": "6805b2f6",
   "metadata": {},
   "outputs": [
    {
     "data": {
      "text/html": [
       "<div>\n",
       "<style scoped>\n",
       "    .dataframe tbody tr th:only-of-type {\n",
       "        vertical-align: middle;\n",
       "    }\n",
       "\n",
       "    .dataframe tbody tr th {\n",
       "        vertical-align: top;\n",
       "    }\n",
       "\n",
       "    .dataframe thead th {\n",
       "        text-align: right;\n",
       "    }\n",
       "</style>\n",
       "<table border=\"1\" class=\"dataframe\">\n",
       "  <thead>\n",
       "    <tr style=\"text-align: right;\">\n",
       "      <th></th>\n",
       "      <th>user_id</th>\n",
       "      <th>sex</th>\n",
       "      <th>age</th>\n",
       "      <th>country</th>\n",
       "    </tr>\n",
       "  </thead>\n",
       "  <tbody>\n",
       "    <tr>\n",
       "      <th>0</th>\n",
       "      <td>765821</td>\n",
       "      <td>M</td>\n",
       "      <td>20</td>\n",
       "      <td>Mexico</td>\n",
       "    </tr>\n",
       "    <tr>\n",
       "      <th>1</th>\n",
       "      <td>343561</td>\n",
       "      <td>F</td>\n",
       "      <td>27</td>\n",
       "      <td>Nicaragua</td>\n",
       "    </tr>\n",
       "    <tr>\n",
       "      <th>2</th>\n",
       "      <td>118744</td>\n",
       "      <td>M</td>\n",
       "      <td>23</td>\n",
       "      <td>Colombia</td>\n",
       "    </tr>\n",
       "    <tr>\n",
       "      <th>3</th>\n",
       "      <td>987753</td>\n",
       "      <td>F</td>\n",
       "      <td>27</td>\n",
       "      <td>Venezuela</td>\n",
       "    </tr>\n",
       "    <tr>\n",
       "      <th>4</th>\n",
       "      <td>554597</td>\n",
       "      <td>F</td>\n",
       "      <td>20</td>\n",
       "      <td>Spain</td>\n",
       "    </tr>\n",
       "  </tbody>\n",
       "</table>\n",
       "</div>"
      ],
      "text/plain": [
       "   user_id sex  age    country\n",
       "0   765821   M   20     Mexico\n",
       "1   343561   F   27  Nicaragua\n",
       "2   118744   M   23   Colombia\n",
       "3   987753   F   27  Venezuela\n",
       "4   554597   F   20      Spain"
      ]
     },
     "execution_count": 3,
     "metadata": {},
     "output_type": "execute_result"
    }
   ],
   "source": [
    "use_info = pd.read_csv(\"user_table.csv\")\n",
    "use_info.head()"
   ]
  },
  {
   "cell_type": "markdown",
   "id": "f8cd85a5",
   "metadata": {},
   "source": [
    "## Merge data"
   ]
  },
  {
   "cell_type": "code",
   "execution_count": 4,
   "id": "9bb4bdca",
   "metadata": {},
   "outputs": [
    {
     "data": {
      "text/html": [
       "<div>\n",
       "<style scoped>\n",
       "    .dataframe tbody tr th:only-of-type {\n",
       "        vertical-align: middle;\n",
       "    }\n",
       "\n",
       "    .dataframe tbody tr th {\n",
       "        vertical-align: top;\n",
       "    }\n",
       "\n",
       "    .dataframe thead th {\n",
       "        text-align: right;\n",
       "    }\n",
       "</style>\n",
       "<table border=\"1\" class=\"dataframe\">\n",
       "  <thead>\n",
       "    <tr style=\"text-align: right;\">\n",
       "      <th></th>\n",
       "      <th>user_id</th>\n",
       "      <th>date</th>\n",
       "      <th>source</th>\n",
       "      <th>device</th>\n",
       "      <th>browser_language</th>\n",
       "      <th>ads_channel</th>\n",
       "      <th>browser</th>\n",
       "      <th>conversion</th>\n",
       "      <th>test</th>\n",
       "      <th>country</th>\n",
       "    </tr>\n",
       "  </thead>\n",
       "  <tbody>\n",
       "    <tr>\n",
       "      <th>0</th>\n",
       "      <td>315281</td>\n",
       "      <td>2015-12-03</td>\n",
       "      <td>Direct</td>\n",
       "      <td>Web</td>\n",
       "      <td>ES</td>\n",
       "      <td>NaN</td>\n",
       "      <td>IE</td>\n",
       "      <td>1</td>\n",
       "      <td>0</td>\n",
       "      <td>Spain</td>\n",
       "    </tr>\n",
       "    <tr>\n",
       "      <th>1</th>\n",
       "      <td>497851</td>\n",
       "      <td>2015-12-04</td>\n",
       "      <td>Ads</td>\n",
       "      <td>Web</td>\n",
       "      <td>ES</td>\n",
       "      <td>Google</td>\n",
       "      <td>IE</td>\n",
       "      <td>0</td>\n",
       "      <td>1</td>\n",
       "      <td>Mexico</td>\n",
       "    </tr>\n",
       "    <tr>\n",
       "      <th>2</th>\n",
       "      <td>848402</td>\n",
       "      <td>2015-12-04</td>\n",
       "      <td>Ads</td>\n",
       "      <td>Web</td>\n",
       "      <td>ES</td>\n",
       "      <td>Facebook</td>\n",
       "      <td>Chrome</td>\n",
       "      <td>0</td>\n",
       "      <td>0</td>\n",
       "      <td>Spain</td>\n",
       "    </tr>\n",
       "    <tr>\n",
       "      <th>3</th>\n",
       "      <td>290051</td>\n",
       "      <td>2015-12-03</td>\n",
       "      <td>Ads</td>\n",
       "      <td>Mobile</td>\n",
       "      <td>Other</td>\n",
       "      <td>Facebook</td>\n",
       "      <td>Android_App</td>\n",
       "      <td>0</td>\n",
       "      <td>1</td>\n",
       "      <td>Mexico</td>\n",
       "    </tr>\n",
       "    <tr>\n",
       "      <th>4</th>\n",
       "      <td>548435</td>\n",
       "      <td>2015-11-30</td>\n",
       "      <td>Ads</td>\n",
       "      <td>Web</td>\n",
       "      <td>ES</td>\n",
       "      <td>Google</td>\n",
       "      <td>FireFox</td>\n",
       "      <td>0</td>\n",
       "      <td>1</td>\n",
       "      <td>Mexico</td>\n",
       "    </tr>\n",
       "  </tbody>\n",
       "</table>\n",
       "</div>"
      ],
      "text/plain": [
       "   user_id        date  source  device browser_language ads_channel  \\\n",
       "0   315281  2015-12-03  Direct     Web               ES         NaN   \n",
       "1   497851  2015-12-04     Ads     Web               ES      Google   \n",
       "2   848402  2015-12-04     Ads     Web               ES    Facebook   \n",
       "3   290051  2015-12-03     Ads  Mobile            Other    Facebook   \n",
       "4   548435  2015-11-30     Ads     Web               ES      Google   \n",
       "\n",
       "       browser  conversion  test country  \n",
       "0           IE           1     0   Spain  \n",
       "1           IE           0     1  Mexico  \n",
       "2       Chrome           0     0   Spain  \n",
       "3  Android_App           0     1  Mexico  \n",
       "4      FireFox           0     1  Mexico  "
      ]
     },
     "execution_count": 4,
     "metadata": {},
     "output_type": "execute_result"
    }
   ],
   "source": [
    "data = pd.merge(data,use_info[['user_id', 'country']], how='left', on='user_id')\n",
    "data.head()"
   ]
  },
  {
   "cell_type": "code",
   "execution_count": 5,
   "id": "cff36bf5",
   "metadata": {},
   "outputs": [
    {
     "name": "stdout",
     "output_type": "stream",
     "text": [
      "<class 'pandas.core.frame.DataFrame'>\n",
      "Int64Index: 453321 entries, 0 to 453320\n",
      "Data columns (total 10 columns):\n",
      " #   Column            Non-Null Count   Dtype \n",
      "---  ------            --------------   ----- \n",
      " 0   user_id           453321 non-null  int64 \n",
      " 1   date              453321 non-null  object\n",
      " 2   source            453321 non-null  object\n",
      " 3   device            453321 non-null  object\n",
      " 4   browser_language  453321 non-null  object\n",
      " 5   ads_channel       181877 non-null  object\n",
      " 6   browser           453321 non-null  object\n",
      " 7   conversion        453321 non-null  int64 \n",
      " 8   test              453321 non-null  int64 \n",
      " 9   country           452867 non-null  object\n",
      "dtypes: int64(3), object(7)\n",
      "memory usage: 38.0+ MB\n"
     ]
    }
   ],
   "source": [
    "data.info()"
   ]
  },
  {
   "cell_type": "markdown",
   "id": "ee67f6a5",
   "metadata": {},
   "source": [
    "## Check missing value"
   ]
  },
  {
   "cell_type": "code",
   "execution_count": 6,
   "id": "dca7034b",
   "metadata": {},
   "outputs": [
    {
     "data": {
      "text/plain": [
       "user_id              0.000000\n",
       "date                 0.000000\n",
       "source               0.000000\n",
       "device               0.000000\n",
       "browser_language     0.000000\n",
       "ads_channel         59.878982\n",
       "browser              0.000000\n",
       "conversion           0.000000\n",
       "test                 0.000000\n",
       "country              0.100150\n",
       "dtype: float64"
      ]
     },
     "execution_count": 6,
     "metadata": {},
     "output_type": "execute_result"
    }
   ],
   "source": [
    "data.isnull().mean() *100"
   ]
  },
  {
   "cell_type": "code",
   "execution_count": 7,
   "id": "8bacdc64",
   "metadata": {},
   "outputs": [
    {
     "data": {
      "text/html": [
       "<div>\n",
       "<style scoped>\n",
       "    .dataframe tbody tr th:only-of-type {\n",
       "        vertical-align: middle;\n",
       "    }\n",
       "\n",
       "    .dataframe tbody tr th {\n",
       "        vertical-align: top;\n",
       "    }\n",
       "\n",
       "    .dataframe thead th {\n",
       "        text-align: right;\n",
       "    }\n",
       "</style>\n",
       "<table border=\"1\" class=\"dataframe\">\n",
       "  <thead>\n",
       "    <tr style=\"text-align: right;\">\n",
       "      <th></th>\n",
       "      <th>user_id</th>\n",
       "      <th>date</th>\n",
       "      <th>source</th>\n",
       "      <th>device</th>\n",
       "      <th>browser_language</th>\n",
       "      <th>ads_channel</th>\n",
       "      <th>browser</th>\n",
       "      <th>conversion</th>\n",
       "      <th>test</th>\n",
       "      <th>country</th>\n",
       "    </tr>\n",
       "  </thead>\n",
       "  <tbody>\n",
       "    <tr>\n",
       "      <th>819</th>\n",
       "      <td>657841</td>\n",
       "      <td>2015-12-02</td>\n",
       "      <td>Ads</td>\n",
       "      <td>Mobile</td>\n",
       "      <td>ES</td>\n",
       "      <td>Bing</td>\n",
       "      <td>Android_App</td>\n",
       "      <td>0</td>\n",
       "      <td>0</td>\n",
       "      <td>NaN</td>\n",
       "    </tr>\n",
       "    <tr>\n",
       "      <th>1696</th>\n",
       "      <td>859340</td>\n",
       "      <td>2015-12-04</td>\n",
       "      <td>Direct</td>\n",
       "      <td>Mobile</td>\n",
       "      <td>EN</td>\n",
       "      <td>NaN</td>\n",
       "      <td>Android_App</td>\n",
       "      <td>0</td>\n",
       "      <td>0</td>\n",
       "      <td>NaN</td>\n",
       "    </tr>\n",
       "    <tr>\n",
       "      <th>1934</th>\n",
       "      <td>716487</td>\n",
       "      <td>2015-12-04</td>\n",
       "      <td>SEO</td>\n",
       "      <td>Mobile</td>\n",
       "      <td>ES</td>\n",
       "      <td>NaN</td>\n",
       "      <td>Android_App</td>\n",
       "      <td>0</td>\n",
       "      <td>0</td>\n",
       "      <td>NaN</td>\n",
       "    </tr>\n",
       "    <tr>\n",
       "      <th>2409</th>\n",
       "      <td>87209</td>\n",
       "      <td>2015-12-01</td>\n",
       "      <td>Direct</td>\n",
       "      <td>Web</td>\n",
       "      <td>ES</td>\n",
       "      <td>NaN</td>\n",
       "      <td>Chrome</td>\n",
       "      <td>0</td>\n",
       "      <td>0</td>\n",
       "      <td>NaN</td>\n",
       "    </tr>\n",
       "    <tr>\n",
       "      <th>2721</th>\n",
       "      <td>771642</td>\n",
       "      <td>2015-11-30</td>\n",
       "      <td>SEO</td>\n",
       "      <td>Mobile</td>\n",
       "      <td>ES</td>\n",
       "      <td>NaN</td>\n",
       "      <td>Android_App</td>\n",
       "      <td>0</td>\n",
       "      <td>0</td>\n",
       "      <td>NaN</td>\n",
       "    </tr>\n",
       "    <tr>\n",
       "      <th>...</th>\n",
       "      <td>...</td>\n",
       "      <td>...</td>\n",
       "      <td>...</td>\n",
       "      <td>...</td>\n",
       "      <td>...</td>\n",
       "      <td>...</td>\n",
       "      <td>...</td>\n",
       "      <td>...</td>\n",
       "      <td>...</td>\n",
       "      <td>...</td>\n",
       "    </tr>\n",
       "    <tr>\n",
       "      <th>446681</th>\n",
       "      <td>490883</td>\n",
       "      <td>2015-12-01</td>\n",
       "      <td>Direct</td>\n",
       "      <td>Mobile</td>\n",
       "      <td>EN</td>\n",
       "      <td>NaN</td>\n",
       "      <td>Android_App</td>\n",
       "      <td>0</td>\n",
       "      <td>1</td>\n",
       "      <td>NaN</td>\n",
       "    </tr>\n",
       "    <tr>\n",
       "      <th>451052</th>\n",
       "      <td>741971</td>\n",
       "      <td>2015-11-30</td>\n",
       "      <td>SEO</td>\n",
       "      <td>Web</td>\n",
       "      <td>ES</td>\n",
       "      <td>NaN</td>\n",
       "      <td>Chrome</td>\n",
       "      <td>0</td>\n",
       "      <td>1</td>\n",
       "      <td>NaN</td>\n",
       "    </tr>\n",
       "    <tr>\n",
       "      <th>452302</th>\n",
       "      <td>722387</td>\n",
       "      <td>2015-11-30</td>\n",
       "      <td>SEO</td>\n",
       "      <td>Web</td>\n",
       "      <td>ES</td>\n",
       "      <td>NaN</td>\n",
       "      <td>FireFox</td>\n",
       "      <td>0</td>\n",
       "      <td>1</td>\n",
       "      <td>NaN</td>\n",
       "    </tr>\n",
       "    <tr>\n",
       "      <th>452342</th>\n",
       "      <td>752632</td>\n",
       "      <td>2015-12-04</td>\n",
       "      <td>Ads</td>\n",
       "      <td>Web</td>\n",
       "      <td>ES</td>\n",
       "      <td>Google</td>\n",
       "      <td>IE</td>\n",
       "      <td>0</td>\n",
       "      <td>1</td>\n",
       "      <td>NaN</td>\n",
       "    </tr>\n",
       "    <tr>\n",
       "      <th>453270</th>\n",
       "      <td>443313</td>\n",
       "      <td>2015-12-04</td>\n",
       "      <td>Ads</td>\n",
       "      <td>Mobile</td>\n",
       "      <td>ES</td>\n",
       "      <td>Google</td>\n",
       "      <td>Android_App</td>\n",
       "      <td>0</td>\n",
       "      <td>0</td>\n",
       "      <td>NaN</td>\n",
       "    </tr>\n",
       "  </tbody>\n",
       "</table>\n",
       "<p>454 rows × 10 columns</p>\n",
       "</div>"
      ],
      "text/plain": [
       "        user_id        date  source  device browser_language ads_channel  \\\n",
       "819      657841  2015-12-02     Ads  Mobile               ES        Bing   \n",
       "1696     859340  2015-12-04  Direct  Mobile               EN         NaN   \n",
       "1934     716487  2015-12-04     SEO  Mobile               ES         NaN   \n",
       "2409      87209  2015-12-01  Direct     Web               ES         NaN   \n",
       "2721     771642  2015-11-30     SEO  Mobile               ES         NaN   \n",
       "...         ...         ...     ...     ...              ...         ...   \n",
       "446681   490883  2015-12-01  Direct  Mobile               EN         NaN   \n",
       "451052   741971  2015-11-30     SEO     Web               ES         NaN   \n",
       "452302   722387  2015-11-30     SEO     Web               ES         NaN   \n",
       "452342   752632  2015-12-04     Ads     Web               ES      Google   \n",
       "453270   443313  2015-12-04     Ads  Mobile               ES      Google   \n",
       "\n",
       "            browser  conversion  test country  \n",
       "819     Android_App           0     0     NaN  \n",
       "1696    Android_App           0     0     NaN  \n",
       "1934    Android_App           0     0     NaN  \n",
       "2409         Chrome           0     0     NaN  \n",
       "2721    Android_App           0     0     NaN  \n",
       "...             ...         ...   ...     ...  \n",
       "446681  Android_App           0     1     NaN  \n",
       "451052       Chrome           0     1     NaN  \n",
       "452302      FireFox           0     1     NaN  \n",
       "452342           IE           0     1     NaN  \n",
       "453270  Android_App           0     0     NaN  \n",
       "\n",
       "[454 rows x 10 columns]"
      ]
     },
     "execution_count": 7,
     "metadata": {},
     "output_type": "execute_result"
    }
   ],
   "source": [
    "data[data['country'].isnull()]"
   ]
  },
  {
   "cell_type": "code",
   "execution_count": 8,
   "id": "7b06a2af",
   "metadata": {
    "scrolled": true
   },
   "outputs": [
    {
     "data": {
      "text/plain": [
       "user_id             0.000000\n",
       "date                0.000000\n",
       "source              0.000000\n",
       "device              0.000000\n",
       "browser_language    0.000000\n",
       "ads_channel         0.598794\n",
       "browser             0.000000\n",
       "conversion          0.000000\n",
       "test                0.000000\n",
       "country             0.000000\n",
       "dtype: float64"
      ]
     },
     "execution_count": 8,
     "metadata": {},
     "output_type": "execute_result"
    }
   ],
   "source": [
    "# as column 'country' only contains 0.1% missing value, dropping them is acceptable.\n",
    "# conlumn 'ads_channel' is irrelevant, just ignore it.\n",
    "data.dropna(subset=['country'], inplace=True)\n",
    "data.isnull().mean()"
   ]
  },
  {
   "cell_type": "markdown",
   "id": "1f5fbd23",
   "metadata": {},
   "source": [
    "## Add new country column (only 'Spain' and 'Other')"
   ]
  },
  {
   "cell_type": "code",
   "execution_count": 9,
   "id": "9f3c765e",
   "metadata": {},
   "outputs": [
    {
     "name": "stderr",
     "output_type": "stream",
     "text": [
      "C:\\Users\\CT\\AppData\\Local\\Temp/ipykernel_13260/537532045.py:2: SettingWithCopyWarning: \n",
      "A value is trying to be set on a copy of a slice from a DataFrame\n",
      "\n",
      "See the caveats in the documentation: https://pandas.pydata.org/pandas-docs/stable/user_guide/indexing.html#returning-a-view-versus-a-copy\n",
      "  data['country_new'][data['country'] != 'Spain'] = 'Other'\n"
     ]
    },
    {
     "data": {
      "text/plain": [
       "Other    401085\n",
       "Spain     51782\n",
       "Name: country_new, dtype: int64"
      ]
     },
     "execution_count": 9,
     "metadata": {},
     "output_type": "execute_result"
    }
   ],
   "source": [
    "data['country_new'] = 'Spain'\n",
    "data['country_new'][data['country'] != 'Spain'] = 'Other'\n",
    "data['country_new'].value_counts()"
   ]
  },
  {
   "cell_type": "markdown",
   "id": "f2b58875",
   "metadata": {},
   "source": [
    "## Drop useless columns"
   ]
  },
  {
   "cell_type": "code",
   "execution_count": 10,
   "id": "54343b0a",
   "metadata": {
    "scrolled": true
   },
   "outputs": [
    {
     "data": {
      "text/html": [
       "<div>\n",
       "<style scoped>\n",
       "    .dataframe tbody tr th:only-of-type {\n",
       "        vertical-align: middle;\n",
       "    }\n",
       "\n",
       "    .dataframe tbody tr th {\n",
       "        vertical-align: top;\n",
       "    }\n",
       "\n",
       "    .dataframe thead th {\n",
       "        text-align: right;\n",
       "    }\n",
       "</style>\n",
       "<table border=\"1\" class=\"dataframe\">\n",
       "  <thead>\n",
       "    <tr style=\"text-align: right;\">\n",
       "      <th></th>\n",
       "      <th>user_id</th>\n",
       "      <th>date</th>\n",
       "      <th>browser_language</th>\n",
       "      <th>conversion</th>\n",
       "      <th>test</th>\n",
       "      <th>country</th>\n",
       "      <th>country_new</th>\n",
       "    </tr>\n",
       "  </thead>\n",
       "  <tbody>\n",
       "    <tr>\n",
       "      <th>0</th>\n",
       "      <td>315281</td>\n",
       "      <td>2015-12-03</td>\n",
       "      <td>ES</td>\n",
       "      <td>1</td>\n",
       "      <td>0</td>\n",
       "      <td>Spain</td>\n",
       "      <td>Spain</td>\n",
       "    </tr>\n",
       "    <tr>\n",
       "      <th>1</th>\n",
       "      <td>497851</td>\n",
       "      <td>2015-12-04</td>\n",
       "      <td>ES</td>\n",
       "      <td>0</td>\n",
       "      <td>1</td>\n",
       "      <td>Mexico</td>\n",
       "      <td>Other</td>\n",
       "    </tr>\n",
       "    <tr>\n",
       "      <th>2</th>\n",
       "      <td>848402</td>\n",
       "      <td>2015-12-04</td>\n",
       "      <td>ES</td>\n",
       "      <td>0</td>\n",
       "      <td>0</td>\n",
       "      <td>Spain</td>\n",
       "      <td>Spain</td>\n",
       "    </tr>\n",
       "    <tr>\n",
       "      <th>3</th>\n",
       "      <td>290051</td>\n",
       "      <td>2015-12-03</td>\n",
       "      <td>Other</td>\n",
       "      <td>0</td>\n",
       "      <td>1</td>\n",
       "      <td>Mexico</td>\n",
       "      <td>Other</td>\n",
       "    </tr>\n",
       "    <tr>\n",
       "      <th>4</th>\n",
       "      <td>548435</td>\n",
       "      <td>2015-11-30</td>\n",
       "      <td>ES</td>\n",
       "      <td>0</td>\n",
       "      <td>1</td>\n",
       "      <td>Mexico</td>\n",
       "      <td>Other</td>\n",
       "    </tr>\n",
       "    <tr>\n",
       "      <th>...</th>\n",
       "      <td>...</td>\n",
       "      <td>...</td>\n",
       "      <td>...</td>\n",
       "      <td>...</td>\n",
       "      <td>...</td>\n",
       "      <td>...</td>\n",
       "      <td>...</td>\n",
       "    </tr>\n",
       "    <tr>\n",
       "      <th>453316</th>\n",
       "      <td>425010</td>\n",
       "      <td>2015-12-04</td>\n",
       "      <td>ES</td>\n",
       "      <td>0</td>\n",
       "      <td>0</td>\n",
       "      <td>Mexico</td>\n",
       "      <td>Other</td>\n",
       "    </tr>\n",
       "    <tr>\n",
       "      <th>453317</th>\n",
       "      <td>826793</td>\n",
       "      <td>2015-12-01</td>\n",
       "      <td>ES</td>\n",
       "      <td>0</td>\n",
       "      <td>1</td>\n",
       "      <td>Colombia</td>\n",
       "      <td>Other</td>\n",
       "    </tr>\n",
       "    <tr>\n",
       "      <th>453318</th>\n",
       "      <td>514870</td>\n",
       "      <td>2015-12-02</td>\n",
       "      <td>ES</td>\n",
       "      <td>0</td>\n",
       "      <td>0</td>\n",
       "      <td>Spain</td>\n",
       "      <td>Spain</td>\n",
       "    </tr>\n",
       "    <tr>\n",
       "      <th>453319</th>\n",
       "      <td>785224</td>\n",
       "      <td>2015-12-04</td>\n",
       "      <td>ES</td>\n",
       "      <td>0</td>\n",
       "      <td>1</td>\n",
       "      <td>Colombia</td>\n",
       "      <td>Other</td>\n",
       "    </tr>\n",
       "    <tr>\n",
       "      <th>453320</th>\n",
       "      <td>241662</td>\n",
       "      <td>2015-12-04</td>\n",
       "      <td>ES</td>\n",
       "      <td>0</td>\n",
       "      <td>1</td>\n",
       "      <td>Mexico</td>\n",
       "      <td>Other</td>\n",
       "    </tr>\n",
       "  </tbody>\n",
       "</table>\n",
       "<p>452867 rows × 7 columns</p>\n",
       "</div>"
      ],
      "text/plain": [
       "        user_id        date browser_language  conversion  test   country  \\\n",
       "0        315281  2015-12-03               ES           1     0     Spain   \n",
       "1        497851  2015-12-04               ES           0     1    Mexico   \n",
       "2        848402  2015-12-04               ES           0     0     Spain   \n",
       "3        290051  2015-12-03            Other           0     1    Mexico   \n",
       "4        548435  2015-11-30               ES           0     1    Mexico   \n",
       "...         ...         ...              ...         ...   ...       ...   \n",
       "453316   425010  2015-12-04               ES           0     0    Mexico   \n",
       "453317   826793  2015-12-01               ES           0     1  Colombia   \n",
       "453318   514870  2015-12-02               ES           0     0     Spain   \n",
       "453319   785224  2015-12-04               ES           0     1  Colombia   \n",
       "453320   241662  2015-12-04               ES           0     1    Mexico   \n",
       "\n",
       "       country_new  \n",
       "0            Spain  \n",
       "1            Other  \n",
       "2            Spain  \n",
       "3            Other  \n",
       "4            Other  \n",
       "...            ...  \n",
       "453316       Other  \n",
       "453317       Other  \n",
       "453318       Spain  \n",
       "453319       Other  \n",
       "453320       Other  \n",
       "\n",
       "[452867 rows x 7 columns]"
      ]
     },
     "execution_count": 10,
     "metadata": {},
     "output_type": "execute_result"
    }
   ],
   "source": [
    "columns = ['user_id', 'date', 'browser_language','conversion', 'test', 'country','country_new']\n",
    "data_test = data[columns]\n",
    "data_test"
   ]
  },
  {
   "cell_type": "markdown",
   "id": "996ad857",
   "metadata": {},
   "source": [
    "## Check if all Spain-based users are assigned to control group"
   ]
  },
  {
   "cell_type": "code",
   "execution_count": 11,
   "id": "945e28c8",
   "metadata": {},
   "outputs": [
    {
     "data": {
      "text/plain": [
       "0    51782\n",
       "Name: test, dtype: int64"
      ]
     },
     "execution_count": 11,
     "metadata": {},
     "output_type": "execute_result"
    }
   ],
   "source": [
    "data_test[data_test['country_new'] == 'Spain']['test'].value_counts()"
   ]
  },
  {
   "cell_type": "markdown",
   "id": "d7eb6922",
   "metadata": {},
   "source": [
    "# Data Overview"
   ]
  },
  {
   "cell_type": "code",
   "execution_count": 12,
   "id": "eca5a973",
   "metadata": {},
   "outputs": [
    {
     "data": {
      "text/html": [
       "<div>\n",
       "<style scoped>\n",
       "    .dataframe tbody tr th:only-of-type {\n",
       "        vertical-align: middle;\n",
       "    }\n",
       "\n",
       "    .dataframe tbody tr th {\n",
       "        vertical-align: top;\n",
       "    }\n",
       "\n",
       "    .dataframe thead th {\n",
       "        text-align: right;\n",
       "    }\n",
       "</style>\n",
       "<table border=\"1\" class=\"dataframe\">\n",
       "  <thead>\n",
       "    <tr style=\"text-align: right;\">\n",
       "      <th></th>\n",
       "      <th>user_id</th>\n",
       "      <th>date</th>\n",
       "      <th>browser_language</th>\n",
       "      <th>conversion</th>\n",
       "      <th>test</th>\n",
       "      <th>country</th>\n",
       "      <th>country_new</th>\n",
       "    </tr>\n",
       "  </thead>\n",
       "  <tbody>\n",
       "    <tr>\n",
       "      <th>0</th>\n",
       "      <td>315281</td>\n",
       "      <td>2015-12-03</td>\n",
       "      <td>ES</td>\n",
       "      <td>1</td>\n",
       "      <td>0</td>\n",
       "      <td>Spain</td>\n",
       "      <td>Spain</td>\n",
       "    </tr>\n",
       "    <tr>\n",
       "      <th>1</th>\n",
       "      <td>497851</td>\n",
       "      <td>2015-12-04</td>\n",
       "      <td>ES</td>\n",
       "      <td>0</td>\n",
       "      <td>1</td>\n",
       "      <td>Mexico</td>\n",
       "      <td>Other</td>\n",
       "    </tr>\n",
       "    <tr>\n",
       "      <th>2</th>\n",
       "      <td>848402</td>\n",
       "      <td>2015-12-04</td>\n",
       "      <td>ES</td>\n",
       "      <td>0</td>\n",
       "      <td>0</td>\n",
       "      <td>Spain</td>\n",
       "      <td>Spain</td>\n",
       "    </tr>\n",
       "    <tr>\n",
       "      <th>3</th>\n",
       "      <td>290051</td>\n",
       "      <td>2015-12-03</td>\n",
       "      <td>Other</td>\n",
       "      <td>0</td>\n",
       "      <td>1</td>\n",
       "      <td>Mexico</td>\n",
       "      <td>Other</td>\n",
       "    </tr>\n",
       "    <tr>\n",
       "      <th>4</th>\n",
       "      <td>548435</td>\n",
       "      <td>2015-11-30</td>\n",
       "      <td>ES</td>\n",
       "      <td>0</td>\n",
       "      <td>1</td>\n",
       "      <td>Mexico</td>\n",
       "      <td>Other</td>\n",
       "    </tr>\n",
       "    <tr>\n",
       "      <th>...</th>\n",
       "      <td>...</td>\n",
       "      <td>...</td>\n",
       "      <td>...</td>\n",
       "      <td>...</td>\n",
       "      <td>...</td>\n",
       "      <td>...</td>\n",
       "      <td>...</td>\n",
       "    </tr>\n",
       "    <tr>\n",
       "      <th>453316</th>\n",
       "      <td>425010</td>\n",
       "      <td>2015-12-04</td>\n",
       "      <td>ES</td>\n",
       "      <td>0</td>\n",
       "      <td>0</td>\n",
       "      <td>Mexico</td>\n",
       "      <td>Other</td>\n",
       "    </tr>\n",
       "    <tr>\n",
       "      <th>453317</th>\n",
       "      <td>826793</td>\n",
       "      <td>2015-12-01</td>\n",
       "      <td>ES</td>\n",
       "      <td>0</td>\n",
       "      <td>1</td>\n",
       "      <td>Colombia</td>\n",
       "      <td>Other</td>\n",
       "    </tr>\n",
       "    <tr>\n",
       "      <th>453318</th>\n",
       "      <td>514870</td>\n",
       "      <td>2015-12-02</td>\n",
       "      <td>ES</td>\n",
       "      <td>0</td>\n",
       "      <td>0</td>\n",
       "      <td>Spain</td>\n",
       "      <td>Spain</td>\n",
       "    </tr>\n",
       "    <tr>\n",
       "      <th>453319</th>\n",
       "      <td>785224</td>\n",
       "      <td>2015-12-04</td>\n",
       "      <td>ES</td>\n",
       "      <td>0</td>\n",
       "      <td>1</td>\n",
       "      <td>Colombia</td>\n",
       "      <td>Other</td>\n",
       "    </tr>\n",
       "    <tr>\n",
       "      <th>453320</th>\n",
       "      <td>241662</td>\n",
       "      <td>2015-12-04</td>\n",
       "      <td>ES</td>\n",
       "      <td>0</td>\n",
       "      <td>1</td>\n",
       "      <td>Mexico</td>\n",
       "      <td>Other</td>\n",
       "    </tr>\n",
       "  </tbody>\n",
       "</table>\n",
       "<p>452867 rows × 7 columns</p>\n",
       "</div>"
      ],
      "text/plain": [
       "        user_id        date browser_language  conversion  test   country  \\\n",
       "0        315281  2015-12-03               ES           1     0     Spain   \n",
       "1        497851  2015-12-04               ES           0     1    Mexico   \n",
       "2        848402  2015-12-04               ES           0     0     Spain   \n",
       "3        290051  2015-12-03            Other           0     1    Mexico   \n",
       "4        548435  2015-11-30               ES           0     1    Mexico   \n",
       "...         ...         ...              ...         ...   ...       ...   \n",
       "453316   425010  2015-12-04               ES           0     0    Mexico   \n",
       "453317   826793  2015-12-01               ES           0     1  Colombia   \n",
       "453318   514870  2015-12-02               ES           0     0     Spain   \n",
       "453319   785224  2015-12-04               ES           0     1  Colombia   \n",
       "453320   241662  2015-12-04               ES           0     1    Mexico   \n",
       "\n",
       "       country_new  \n",
       "0            Spain  \n",
       "1            Other  \n",
       "2            Spain  \n",
       "3            Other  \n",
       "4            Other  \n",
       "...            ...  \n",
       "453316       Other  \n",
       "453317       Other  \n",
       "453318       Spain  \n",
       "453319       Other  \n",
       "453320       Other  \n",
       "\n",
       "[452867 rows x 7 columns]"
      ]
     },
     "execution_count": 12,
     "metadata": {},
     "output_type": "execute_result"
    }
   ],
   "source": [
    "data_test"
   ]
  },
  {
   "cell_type": "markdown",
   "id": "0b65cb28",
   "metadata": {},
   "source": [
    "## Barplot - country vs browser_language\n",
    "#####  \n",
    "#####  1.most users choose Spanish as their browser language. There may be the season why the test result is negative."
   ]
  },
  {
   "cell_type": "code",
   "execution_count": 39,
   "id": "220006f2",
   "metadata": {},
   "outputs": [
    {
     "data": {
      "text/plain": [
       "<seaborn.axisgrid.FacetGrid at 0x1b225164e80>"
      ]
     },
     "execution_count": 39,
     "metadata": {},
     "output_type": "execute_result"
    },
    {
     "data": {
      "image/png": "[encoded data removed]",
      "text/plain": [
       "<Figure size 459.5x360 with 1 Axes>"
      ]
     },
     "metadata": {
      "needs_background": "light"
     },
     "output_type": "display_data"
    }
   ],
   "source": [
    "sns.catplot(x=\"country_new\", hue='browser_language', kind=\"count\", data=data_test)"
   ]
  },
  {
   "cell_type": "markdown",
   "id": "dab562ec",
   "metadata": {},
   "source": [
    "## Barplot - country vs test\n",
    "#####  \n",
    "#####  1. Spain users are all in control group. It coincides with experiment.\n",
    "#####  2. Numbers of other country users in different group are slightly different. It should be tested whether it is within the confidence internal ."
   ]
  },
  {
   "cell_type": "code",
   "execution_count": 14,
   "id": "3066de13",
   "metadata": {},
   "outputs": [
    {
     "data": {
      "text/plain": [
       "<seaborn.axisgrid.FacetGrid at 0x1b2106a94c0>"
      ]
     },
     "execution_count": 14,
     "metadata": {},
     "output_type": "execute_result"
    },
    {
     "data": {
      "image/png": "[encoded data removed]",
      "text/plain": [
       "<Figure size 402.375x360 with 1 Axes>"
      ]
     },
     "metadata": {
      "needs_background": "light"
     },
     "output_type": "display_data"
    }
   ],
   "source": [
    "sns.catplot(x=\"country_new\", hue='test', kind=\"count\", data=data_test)"
   ]
  },
  {
   "cell_type": "markdown",
   "id": "990df127",
   "metadata": {},
   "source": [
    "## Barplot - browser_language vs test\n",
    "#####   \n",
    "#####  1. numbers of different browser language users in the two groups separately should be test whether within CI should be tested as well."
   ]
  },
  {
   "cell_type": "code",
   "execution_count": 15,
   "id": "207ea493",
   "metadata": {},
   "outputs": [
    {
     "data": {
      "text/plain": [
       "<seaborn.axisgrid.FacetGrid at 0x1b210a6feb0>"
      ]
     },
     "execution_count": 15,
     "metadata": {},
     "output_type": "execute_result"
    },
    {
     "data": {
      "image/png": "[encoded data removed]",
      "text/plain": [
       "<Figure size 402.375x360 with 1 Axes>"
      ]
     },
     "metadata": {
      "needs_background": "light"
     },
     "output_type": "display_data"
    }
   ],
   "source": [
    "sns.catplot(x=\"browser_language\", hue='test', kind=\"count\", data=data_test)"
   ]
  },
  {
   "cell_type": "markdown",
   "id": "572326f9",
   "metadata": {},
   "source": [
    "## Barplot - country & browser_language vs test\n",
    "#####   \n",
    "##### 1. There seems inbalanced numbers of  users of different subtypes in the two group. It should be test."
   ]
  },
  {
   "cell_type": "code",
   "execution_count": 16,
   "id": "69933851",
   "metadata": {},
   "outputs": [
    {
     "data": {
      "text/plain": [
       "<seaborn.axisgrid.FacetGrid at 0x1b21068a4c0>"
      ]
     },
     "execution_count": 16,
     "metadata": {},
     "output_type": "execute_result"
    },
    {
     "data": {
      "image/png": "[encoded data removed]",
      "text/plain": [
       "<Figure size 762.375x360 with 2 Axes>"
      ]
     },
     "metadata": {
      "needs_background": "light"
     },
     "output_type": "display_data"
    }
   ],
   "source": [
    "sns.catplot(col=\"country_new\", x = 'browser_language', hue='test', kind=\"count\", data=data_test)"
   ]
  },
  {
   "cell_type": "markdown",
   "id": "8e860329",
   "metadata": {},
   "source": [
    "## Lineplot - conversion rate by date"
   ]
  },
  {
   "cell_type": "code",
   "execution_count": 53,
   "id": "7c06f37c",
   "metadata": {},
   "outputs": [
    {
     "data": {
      "text/plain": [
       "<AxesSubplot:xlabel='date', ylabel='conversion'>"
      ]
     },
     "execution_count": 53,
     "metadata": {},
     "output_type": "execute_result"
    },
    {
     "data": {
      "image/png": "[encoded data removed]",
      "text/plain": [
       "<Figure size 432x288 with 1 Axes>"
      ]
     },
     "metadata": {
      "needs_background": "light"
     },
     "output_type": "display_data"
    }
   ],
   "source": [
    "data_date = data_test.groupby('date').mean()\n",
    "sns.lineplot(x='date', y='conversion', data=data_date)"
   ]
  },
  {
   "cell_type": "markdown",
   "id": "c96e7672",
   "metadata": {},
   "source": [
    "## Barplot - conversion rate by country"
   ]
  },
  {
   "cell_type": "code",
   "execution_count": 73,
   "id": "9f35a023",
   "metadata": {},
   "outputs": [
    {
     "data": {
      "text/plain": [
       "<AxesSubplot:xlabel='country', ylabel='conversion'>"
      ]
     },
     "execution_count": 73,
     "metadata": {},
     "output_type": "execute_result"
    },
    {
     "data": {
      "image/png": "[encoded data removed]",
      "text/plain": [
       "<Figure size 432x288 with 1 Axes>"
      ]
     },
     "metadata": {
      "needs_background": "light"
     },
     "output_type": "display_data"
    }
   ],
   "source": [
    "data_country = data_test.groupby('country').mean()\n",
    "data_country.reset_index(inplace=True)\n",
    "data_country.sort_values('conversion', inplace=True)\n",
    "sns.barplot(x='country', y='conversion', data=data_country)"
   ]
  },
  {
   "cell_type": "markdown",
   "id": "fe23da32",
   "metadata": {},
   "source": [
    "## Barplot - conversion rate by country & group"
   ]
  },
  {
   "cell_type": "code",
   "execution_count": 74,
   "id": "7ba18107",
   "metadata": {},
   "outputs": [
    {
     "data": {
      "text/plain": [
       "<AxesSubplot:xlabel='country', ylabel='conversion'>"
      ]
     },
     "execution_count": 74,
     "metadata": {},
     "output_type": "execute_result"
    },
    {
     "data": {
      "image/png": "[encoded data removed]",
      "text/plain": [
       "<Figure size 432x288 with 1 Axes>"
      ]
     },
     "metadata": {
      "needs_background": "light"
     },
     "output_type": "display_data"
    }
   ],
   "source": [
    "sns.barplot(x='country', y='conversion', hue='test', data=data_test)"
   ]
  },
  {
   "cell_type": "markdown",
   "id": "fa32c19f",
   "metadata": {},
   "source": [
    "# Devide control and experiment data"
   ]
  },
  {
   "cell_type": "code",
   "execution_count": 17,
   "id": "730a383c",
   "metadata": {},
   "outputs": [
    {
     "name": "stdout",
     "output_type": "stream",
     "text": [
      "Control Group\n"
     ]
    },
    {
     "data": {
      "text/plain": [
       "{'conversion': 0.0483, 'sample_size': 185311}"
      ]
     },
     "execution_count": 17,
     "metadata": {},
     "output_type": "execute_result"
    }
   ],
   "source": [
    "data_ctl = data_test[(data_test['country_new'] != 'Spain') & (data_test['test'] == 0)]\n",
    "conversion_rate = round(data_ctl['conversion'].mean(), 4)\n",
    "count = len(data_ctl)\n",
    "control = {'conversion': conversion_rate, 'sample_size': count}\n",
    "print(\"Control Group\")\n",
    "control"
   ]
  },
  {
   "cell_type": "code",
   "execution_count": 18,
   "id": "67fb7408",
   "metadata": {},
   "outputs": [
    {
     "name": "stdout",
     "output_type": "stream",
     "text": [
      "Experiment Group\n"
     ]
    },
    {
     "data": {
      "text/plain": [
       "{'conversion': 0.0434, 'sample_size': 215774}"
      ]
     },
     "execution_count": 18,
     "metadata": {},
     "output_type": "execute_result"
    }
   ],
   "source": [
    "data_exp = data_test[(data_test['country_new'] != 'Spain') & (data_test['test'] != 0)]\n",
    "conversion_rate = round(data_exp['conversion'].mean(), 4)\n",
    "count = len(data_exp)\n",
    "experiment = {'conversion': conversion_rate, 'sample_size': count}\n",
    "print(\"Experiment Group\")\n",
    "experiment"
   ]
  },
  {
   "cell_type": "markdown",
   "id": "6bf66244",
   "metadata": {},
   "source": [
    "# Set baseline  & MDE"
   ]
  },
  {
   "cell_type": "code",
   "execution_count": 19,
   "id": "566335cf",
   "metadata": {},
   "outputs": [],
   "source": [
    "data_baseline = data_test[data_test['country_new'] == 'Spain']\n",
    "baseline = {'conversion' : control['conversion'], 'MDE': 0.01}"
   ]
  },
  {
   "cell_type": "markdown",
   "id": "b9b67e79",
   "metadata": {},
   "source": [
    "# Calculate sample size"
   ]
  },
  {
   "cell_type": "code",
   "execution_count": 20,
   "id": "a17c9daa",
   "metadata": {},
   "outputs": [
    {
     "data": {
      "text/html": [
       "\n",
       "        <iframe\n",
       "            width=\"800\"\n",
       "            height=\"500\"\n",
       "            src=\"https://www.evanmiller.org/ab-testing/sample-size.html#!4.83;80;5;1;0\"\n",
       "            frameborder=\"0\"\n",
       "            allowfullscreen\n",
       "            \n",
       "        ></iframe>\n",
       "        "
      ],
      "text/plain": [
       "<IPython.lib.display.IFrame at 0x1b2122e46a0>"
      ]
     },
     "execution_count": 20,
     "metadata": {},
     "output_type": "execute_result"
    }
   ],
   "source": [
    "from IPython.display import IFrame\n",
    "IFrame('https://www.evanmiller.org/ab-testing/sample-size.html#!4.83;80;5;1;0', width=800, height=500)"
   ]
  },
  {
   "cell_type": "code",
   "execution_count": 21,
   "id": "781f8917",
   "metadata": {},
   "outputs": [
    {
     "name": "stdout",
     "output_type": "stream",
     "text": [
      "Baseline\n"
     ]
    },
    {
     "data": {
      "text/plain": [
       "{'conversion': 0.0483, 'MDE': 0.01, 'Sample_zise': 7423}"
      ]
     },
     "execution_count": 21,
     "metadata": {},
     "output_type": "execute_result"
    }
   ],
   "source": [
    "# From the above sample size calculator, we can get the sample size is:\n",
    "sample_size = 7423\n",
    "baseline['Sample_zise'] = sample_size\n",
    "print(\"Baseline\")\n",
    "baseline"
   ]
  },
  {
   "cell_type": "markdown",
   "id": "e9158760",
   "metadata": {},
   "source": [
    "# Check Sample Distribution Assumption"
   ]
  },
  {
   "cell_type": "markdown",
   "id": "50402a61",
   "metadata": {},
   "source": [
    "## Whether user distributionin different group follow Bi (n, 0.5)"
   ]
  },
  {
   "cell_type": "code",
   "execution_count": 22,
   "id": "d666a1f0",
   "metadata": {},
   "outputs": [
    {
     "data": {
      "text/plain": [
       "0.5379757408030716"
      ]
     },
     "execution_count": 22,
     "metadata": {},
     "output_type": "execute_result"
    }
   ],
   "source": [
    "data_full = data_test[(data_test['country_new'] != 'Spain')]\n",
    "data_full['test'].mean()"
   ]
  },
  {
   "cell_type": "code",
   "execution_count": 23,
   "id": "0043e98f",
   "metadata": {},
   "outputs": [
    {
     "name": "stdout",
     "output_type": "stream",
     "text": [
      "It does not follow Bi( 401085 ,  0.5 )\n"
     ]
    }
   ],
   "source": [
    "def bi_check(n, p_sample, p = 0.5, alpha = 0.05):\n",
    "    sd = mt.sqrt(p*(1-p) / n)\n",
    "    ME = round(norm.ppf(1 - (alpha/2)) * sd, 4)\n",
    "    CI = np.array([p-ME, p+ME])\n",
    "    if p_sample >= CI[0] and p_sample <= CI[1]:\n",
    "        print(\"It follows Bi(\", n, \", \", p, \")\")\n",
    "    else:\n",
    "        print(\"It does not follow Bi(\", n, \", \", p, \")\")\n",
    "        \n",
    "        \n",
    "bi_check(len(data_full['test']), data_full['test'].mean())\n",
    "        \n",
    "    "
   ]
  },
  {
   "cell_type": "markdown",
   "id": "fbb550a0",
   "metadata": {},
   "source": [
    "# Conversion Rate Test"
   ]
  },
  {
   "cell_type": "code",
   "execution_count": 24,
   "id": "7015bc28",
   "metadata": {},
   "outputs": [
    {
     "name": "stdout",
     "output_type": "stream",
     "text": [
      "Confidence Interval is：  -0.0062 ， -0.0036 , sample result is:  -0.0049\n"
     ]
    }
   ],
   "source": [
    "d_hat = round(experiment['conversion'] - control['conversion'], 4)\n",
    "p_pooled = data_full['conversion'].mean()\n",
    "sd_pooled = mt.sqrt(p_pooled * (1-p_pooled) * (1/control['sample_size'] + 1/experiment['sample_size']))\n",
    "ME=round(norm.ppf(1-(0.05/2))*sd_pooled,4)\n",
    "print (\"Confidence Interval is： \",d_hat-ME,\"，\",d_hat+ME,\", sample result is: \",d_hat)"
   ]
  },
  {
   "cell_type": "markdown",
   "id": "3f36387f",
   "metadata": {},
   "source": [
    "# By Country"
   ]
  },
  {
   "cell_type": "code",
   "execution_count": 25,
   "id": "199c9b6f",
   "metadata": {},
   "outputs": [
    {
     "name": "stdout",
     "output_type": "stream",
     "text": [
      "Control Group\n"
     ]
    },
    {
     "data": {
      "text/html": [
       "<div>\n",
       "<style scoped>\n",
       "    .dataframe tbody tr th:only-of-type {\n",
       "        vertical-align: middle;\n",
       "    }\n",
       "\n",
       "    .dataframe tbody tr th {\n",
       "        vertical-align: top;\n",
       "    }\n",
       "\n",
       "    .dataframe thead th {\n",
       "        text-align: right;\n",
       "    }\n",
       "</style>\n",
       "<table border=\"1\" class=\"dataframe\">\n",
       "  <thead>\n",
       "    <tr style=\"text-align: right;\">\n",
       "      <th></th>\n",
       "      <th>conversion</th>\n",
       "      <th>size</th>\n",
       "    </tr>\n",
       "    <tr>\n",
       "      <th>country</th>\n",
       "      <th></th>\n",
       "      <th></th>\n",
       "    </tr>\n",
       "  </thead>\n",
       "  <tbody>\n",
       "    <tr>\n",
       "      <th>Argentina</th>\n",
       "      <td>0.015071</td>\n",
       "      <td>9356</td>\n",
       "    </tr>\n",
       "    <tr>\n",
       "      <th>Bolivia</th>\n",
       "      <td>0.049369</td>\n",
       "      <td>5550</td>\n",
       "    </tr>\n",
       "    <tr>\n",
       "      <th>Chile</th>\n",
       "      <td>0.048107</td>\n",
       "      <td>9853</td>\n",
       "    </tr>\n",
       "    <tr>\n",
       "      <th>Colombia</th>\n",
       "      <td>0.052089</td>\n",
       "      <td>27088</td>\n",
       "    </tr>\n",
       "    <tr>\n",
       "      <th>Costa Rica</th>\n",
       "      <td>0.052256</td>\n",
       "      <td>2660</td>\n",
       "    </tr>\n",
       "    <tr>\n",
       "      <th>Ecuador</th>\n",
       "      <td>0.049154</td>\n",
       "      <td>8036</td>\n",
       "    </tr>\n",
       "    <tr>\n",
       "      <th>El Salvador</th>\n",
       "      <td>0.053554</td>\n",
       "      <td>4108</td>\n",
       "    </tr>\n",
       "    <tr>\n",
       "      <th>Guatemala</th>\n",
       "      <td>0.050643</td>\n",
       "      <td>7622</td>\n",
       "    </tr>\n",
       "    <tr>\n",
       "      <th>Honduras</th>\n",
       "      <td>0.050906</td>\n",
       "      <td>4361</td>\n",
       "    </tr>\n",
       "    <tr>\n",
       "      <th>Mexico</th>\n",
       "      <td>0.049495</td>\n",
       "      <td>64209</td>\n",
       "    </tr>\n",
       "    <tr>\n",
       "      <th>Nicaragua</th>\n",
       "      <td>0.052647</td>\n",
       "      <td>3419</td>\n",
       "    </tr>\n",
       "    <tr>\n",
       "      <th>Panama</th>\n",
       "      <td>0.046796</td>\n",
       "      <td>1966</td>\n",
       "    </tr>\n",
       "    <tr>\n",
       "      <th>Paraguay</th>\n",
       "      <td>0.048493</td>\n",
       "      <td>3650</td>\n",
       "    </tr>\n",
       "    <tr>\n",
       "      <th>Peru</th>\n",
       "      <td>0.049914</td>\n",
       "      <td>16869</td>\n",
       "    </tr>\n",
       "    <tr>\n",
       "      <th>Uruguay</th>\n",
       "      <td>0.012048</td>\n",
       "      <td>415</td>\n",
       "    </tr>\n",
       "    <tr>\n",
       "      <th>Venezuela</th>\n",
       "      <td>0.050344</td>\n",
       "      <td>16149</td>\n",
       "    </tr>\n",
       "  </tbody>\n",
       "</table>\n",
       "</div>"
      ],
      "text/plain": [
       "             conversion   size\n",
       "country                       \n",
       "Argentina      0.015071   9356\n",
       "Bolivia        0.049369   5550\n",
       "Chile          0.048107   9853\n",
       "Colombia       0.052089  27088\n",
       "Costa Rica     0.052256   2660\n",
       "Ecuador        0.049154   8036\n",
       "El Salvador    0.053554   4108\n",
       "Guatemala      0.050643   7622\n",
       "Honduras       0.050906   4361\n",
       "Mexico         0.049495  64209\n",
       "Nicaragua      0.052647   3419\n",
       "Panama         0.046796   1966\n",
       "Paraguay       0.048493   3650\n",
       "Peru           0.049914  16869\n",
       "Uruguay        0.012048    415\n",
       "Venezuela      0.050344  16149"
      ]
     },
     "execution_count": 25,
     "metadata": {},
     "output_type": "execute_result"
    }
   ],
   "source": [
    "group_ctl = data_ctl.groupby('country')\n",
    "control_country = group_ctl['conversion'].agg([np.mean, np.size])\n",
    "control_country.columns = ['conversion', 'size']\n",
    "print(\"Control Group\")\n",
    "control_country"
   ]
  },
  {
   "cell_type": "code",
   "execution_count": 26,
   "id": "ff602b7e",
   "metadata": {
    "scrolled": false
   },
   "outputs": [
    {
     "name": "stdout",
     "output_type": "stream",
     "text": [
      "Experiment Group\n"
     ]
    },
    {
     "data": {
      "text/html": [
       "<div>\n",
       "<style scoped>\n",
       "    .dataframe tbody tr th:only-of-type {\n",
       "        vertical-align: middle;\n",
       "    }\n",
       "\n",
       "    .dataframe tbody tr th {\n",
       "        vertical-align: top;\n",
       "    }\n",
       "\n",
       "    .dataframe thead th {\n",
       "        text-align: right;\n",
       "    }\n",
       "</style>\n",
       "<table border=\"1\" class=\"dataframe\">\n",
       "  <thead>\n",
       "    <tr style=\"text-align: right;\">\n",
       "      <th></th>\n",
       "      <th>conversion</th>\n",
       "      <th>size</th>\n",
       "    </tr>\n",
       "    <tr>\n",
       "      <th>country</th>\n",
       "      <th></th>\n",
       "      <th></th>\n",
       "    </tr>\n",
       "  </thead>\n",
       "  <tbody>\n",
       "    <tr>\n",
       "      <th>Argentina</th>\n",
       "      <td>0.013725</td>\n",
       "      <td>37377</td>\n",
       "    </tr>\n",
       "    <tr>\n",
       "      <th>Bolivia</th>\n",
       "      <td>0.047901</td>\n",
       "      <td>5574</td>\n",
       "    </tr>\n",
       "    <tr>\n",
       "      <th>Chile</th>\n",
       "      <td>0.051295</td>\n",
       "      <td>9884</td>\n",
       "    </tr>\n",
       "    <tr>\n",
       "      <th>Colombia</th>\n",
       "      <td>0.050571</td>\n",
       "      <td>26972</td>\n",
       "    </tr>\n",
       "    <tr>\n",
       "      <th>Costa Rica</th>\n",
       "      <td>0.054738</td>\n",
       "      <td>2649</td>\n",
       "    </tr>\n",
       "    <tr>\n",
       "      <th>Ecuador</th>\n",
       "      <td>0.048988</td>\n",
       "      <td>7859</td>\n",
       "    </tr>\n",
       "    <tr>\n",
       "      <th>El Salvador</th>\n",
       "      <td>0.047947</td>\n",
       "      <td>4067</td>\n",
       "    </tr>\n",
       "    <tr>\n",
       "      <th>Guatemala</th>\n",
       "      <td>0.048647</td>\n",
       "      <td>7503</td>\n",
       "    </tr>\n",
       "    <tr>\n",
       "      <th>Honduras</th>\n",
       "      <td>0.047540</td>\n",
       "      <td>4207</td>\n",
       "    </tr>\n",
       "    <tr>\n",
       "      <th>Mexico</th>\n",
       "      <td>0.051186</td>\n",
       "      <td>64275</td>\n",
       "    </tr>\n",
       "    <tr>\n",
       "      <th>Nicaragua</th>\n",
       "      <td>0.054177</td>\n",
       "      <td>3304</td>\n",
       "    </tr>\n",
       "    <tr>\n",
       "      <th>Panama</th>\n",
       "      <td>0.049370</td>\n",
       "      <td>1985</td>\n",
       "    </tr>\n",
       "    <tr>\n",
       "      <th>Paraguay</th>\n",
       "      <td>0.049229</td>\n",
       "      <td>3697</td>\n",
       "    </tr>\n",
       "    <tr>\n",
       "      <th>Peru</th>\n",
       "      <td>0.050604</td>\n",
       "      <td>16797</td>\n",
       "    </tr>\n",
       "    <tr>\n",
       "      <th>Uruguay</th>\n",
       "      <td>0.012907</td>\n",
       "      <td>3719</td>\n",
       "    </tr>\n",
       "    <tr>\n",
       "      <th>Venezuela</th>\n",
       "      <td>0.048978</td>\n",
       "      <td>15905</td>\n",
       "    </tr>\n",
       "  </tbody>\n",
       "</table>\n",
       "</div>"
      ],
      "text/plain": [
       "             conversion   size\n",
       "country                       \n",
       "Argentina      0.013725  37377\n",
       "Bolivia        0.047901   5574\n",
       "Chile          0.051295   9884\n",
       "Colombia       0.050571  26972\n",
       "Costa Rica     0.054738   2649\n",
       "Ecuador        0.048988   7859\n",
       "El Salvador    0.047947   4067\n",
       "Guatemala      0.048647   7503\n",
       "Honduras       0.047540   4207\n",
       "Mexico         0.051186  64275\n",
       "Nicaragua      0.054177   3304\n",
       "Panama         0.049370   1985\n",
       "Paraguay       0.049229   3697\n",
       "Peru           0.050604  16797\n",
       "Uruguay        0.012907   3719\n",
       "Venezuela      0.048978  15905"
      ]
     },
     "execution_count": 26,
     "metadata": {},
     "output_type": "execute_result"
    }
   ],
   "source": [
    "group_exp = data_exp.groupby('country')\n",
    "experiment_country = group_exp['conversion'].agg([np.mean, np.size])\n",
    "experiment_country.columns = ['conversion', 'size']\n",
    "print(\"Experiment Group\")\n",
    "experiment_country"
   ]
  },
  {
   "cell_type": "code",
   "execution_count": 27,
   "id": "7fe57567",
   "metadata": {},
   "outputs": [],
   "source": [
    "result = pd.DataFrame(experiment_country['conversion'] - control_country['conversion'])\n",
    "result.columns = ['d_hat']"
   ]
  },
  {
   "cell_type": "code",
   "execution_count": 28,
   "id": "d8902897",
   "metadata": {},
   "outputs": [],
   "source": [
    "def CI_reslt (country, cov_exp, cov_ctl, size_exp, size_ctl, alpha=0.05):\n",
    "    d_hat = round(cov_exp - cov_ctl, 4)\n",
    "    p_pooled = (cov_exp*size_exp + cov_ctl*size_ctl) / (size_exp+size_ctl)\n",
    "    sd_pooled = mt.sqrt(p_pooled * (1-p_pooled) * (1/size_exp + 1/size_ctl))\n",
    "    ME=round(norm.ppf(1-(0.05/2))*sd_pooled,4)\n",
    "    result.loc[country, 'CI_L'] = d_hat-ME\n",
    "    result.loc[country, 'CI_H'] = d_hat+ME\n",
    "    if d_hat-ME > 0:\n",
    "        result.loc[country, 'result'] = '+'\n",
    "    elif d_hat+ME < 0:\n",
    "        result.loc[country, 'result'] = '-'\n",
    "    else:\n",
    "        result.loc[country, 'result'] = '0'"
   ]
  },
  {
   "cell_type": "code",
   "execution_count": 29,
   "id": "67239965",
   "metadata": {
    "scrolled": true
   },
   "outputs": [
    {
     "data": {
      "text/html": [
       "<div>\n",
       "<style scoped>\n",
       "    .dataframe tbody tr th:only-of-type {\n",
       "        vertical-align: middle;\n",
       "    }\n",
       "\n",
       "    .dataframe tbody tr th {\n",
       "        vertical-align: top;\n",
       "    }\n",
       "\n",
       "    .dataframe thead th {\n",
       "        text-align: right;\n",
       "    }\n",
       "</style>\n",
       "<table border=\"1\" class=\"dataframe\">\n",
       "  <thead>\n",
       "    <tr style=\"text-align: right;\">\n",
       "      <th></th>\n",
       "      <th>d_hat</th>\n",
       "      <th>CI_L</th>\n",
       "      <th>CI_H</th>\n",
       "      <th>result</th>\n",
       "    </tr>\n",
       "    <tr>\n",
       "      <th>country</th>\n",
       "      <th></th>\n",
       "      <th></th>\n",
       "      <th></th>\n",
       "      <th></th>\n",
       "    </tr>\n",
       "  </thead>\n",
       "  <tbody>\n",
       "    <tr>\n",
       "      <th>Argentina</th>\n",
       "      <td>-0.001346</td>\n",
       "      <td>-0.0040</td>\n",
       "      <td>0.0014</td>\n",
       "      <td>0</td>\n",
       "    </tr>\n",
       "    <tr>\n",
       "      <th>Bolivia</th>\n",
       "      <td>-0.001468</td>\n",
       "      <td>-0.0095</td>\n",
       "      <td>0.0065</td>\n",
       "      <td>0</td>\n",
       "    </tr>\n",
       "    <tr>\n",
       "      <th>Chile</th>\n",
       "      <td>0.003188</td>\n",
       "      <td>-0.0029</td>\n",
       "      <td>0.0093</td>\n",
       "      <td>0</td>\n",
       "    </tr>\n",
       "    <tr>\n",
       "      <th>Colombia</th>\n",
       "      <td>-0.001519</td>\n",
       "      <td>-0.0052</td>\n",
       "      <td>0.0022</td>\n",
       "      <td>0</td>\n",
       "    </tr>\n",
       "    <tr>\n",
       "      <th>Costa Rica</th>\n",
       "      <td>0.002482</td>\n",
       "      <td>-0.0096</td>\n",
       "      <td>0.0146</td>\n",
       "      <td>0</td>\n",
       "    </tr>\n",
       "    <tr>\n",
       "      <th>Ecuador</th>\n",
       "      <td>-0.000165</td>\n",
       "      <td>-0.0069</td>\n",
       "      <td>0.0065</td>\n",
       "      <td>0</td>\n",
       "    </tr>\n",
       "    <tr>\n",
       "      <th>El Salvador</th>\n",
       "      <td>-0.005607</td>\n",
       "      <td>-0.0151</td>\n",
       "      <td>0.0039</td>\n",
       "      <td>0</td>\n",
       "    </tr>\n",
       "    <tr>\n",
       "      <th>Guatemala</th>\n",
       "      <td>-0.001996</td>\n",
       "      <td>-0.0089</td>\n",
       "      <td>0.0049</td>\n",
       "      <td>0</td>\n",
       "    </tr>\n",
       "    <tr>\n",
       "      <th>Honduras</th>\n",
       "      <td>-0.003366</td>\n",
       "      <td>-0.0126</td>\n",
       "      <td>0.0058</td>\n",
       "      <td>0</td>\n",
       "    </tr>\n",
       "    <tr>\n",
       "      <th>Mexico</th>\n",
       "      <td>0.001692</td>\n",
       "      <td>-0.0007</td>\n",
       "      <td>0.0041</td>\n",
       "      <td>0</td>\n",
       "    </tr>\n",
       "    <tr>\n",
       "      <th>Nicaragua</th>\n",
       "      <td>0.001530</td>\n",
       "      <td>-0.0093</td>\n",
       "      <td>0.0123</td>\n",
       "      <td>0</td>\n",
       "    </tr>\n",
       "    <tr>\n",
       "      <th>Panama</th>\n",
       "      <td>0.002575</td>\n",
       "      <td>-0.0107</td>\n",
       "      <td>0.0159</td>\n",
       "      <td>0</td>\n",
       "    </tr>\n",
       "    <tr>\n",
       "      <th>Paraguay</th>\n",
       "      <td>0.000736</td>\n",
       "      <td>-0.0092</td>\n",
       "      <td>0.0106</td>\n",
       "      <td>0</td>\n",
       "    </tr>\n",
       "    <tr>\n",
       "      <th>Peru</th>\n",
       "      <td>0.000690</td>\n",
       "      <td>-0.0040</td>\n",
       "      <td>0.0054</td>\n",
       "      <td>0</td>\n",
       "    </tr>\n",
       "    <tr>\n",
       "      <th>Uruguay</th>\n",
       "      <td>0.000859</td>\n",
       "      <td>-0.0105</td>\n",
       "      <td>0.0123</td>\n",
       "      <td>0</td>\n",
       "    </tr>\n",
       "    <tr>\n",
       "      <th>Venezuela</th>\n",
       "      <td>-0.001365</td>\n",
       "      <td>-0.0062</td>\n",
       "      <td>0.0034</td>\n",
       "      <td>0</td>\n",
       "    </tr>\n",
       "  </tbody>\n",
       "</table>\n",
       "</div>"
      ],
      "text/plain": [
       "                d_hat    CI_L    CI_H result\n",
       "country                                     \n",
       "Argentina   -0.001346 -0.0040  0.0014      0\n",
       "Bolivia     -0.001468 -0.0095  0.0065      0\n",
       "Chile        0.003188 -0.0029  0.0093      0\n",
       "Colombia    -0.001519 -0.0052  0.0022      0\n",
       "Costa Rica   0.002482 -0.0096  0.0146      0\n",
       "Ecuador     -0.000165 -0.0069  0.0065      0\n",
       "El Salvador -0.005607 -0.0151  0.0039      0\n",
       "Guatemala   -0.001996 -0.0089  0.0049      0\n",
       "Honduras    -0.003366 -0.0126  0.0058      0\n",
       "Mexico       0.001692 -0.0007  0.0041      0\n",
       "Nicaragua    0.001530 -0.0093  0.0123      0\n",
       "Panama       0.002575 -0.0107  0.0159      0\n",
       "Paraguay     0.000736 -0.0092  0.0106      0\n",
       "Peru         0.000690 -0.0040  0.0054      0\n",
       "Uruguay      0.000859 -0.0105  0.0123      0\n",
       "Venezuela   -0.001365 -0.0062  0.0034      0"
      ]
     },
     "execution_count": 29,
     "metadata": {},
     "output_type": "execute_result"
    }
   ],
   "source": [
    "for country in result.index:\n",
    "    cov_exp = experiment_country.loc[country, 'conversion']\n",
    "    cov_ctl = control_country.loc[country, 'conversion']\n",
    "    size_exp = experiment_country.loc[country, 'size']\n",
    "    size_ctl = control_country.loc[country, 'size']\n",
    "    CI_reslt (country, cov_exp, cov_ctl, size_exp, size_ctl)\n",
    "    \n",
    "result"
   ]
  },
  {
   "cell_type": "markdown",
   "id": "8137d85f",
   "metadata": {},
   "source": [
    "# To-do\n",
    "##### 1.  Anayse conversion rate by day. (whenever results appear to good or too bad te be true, thet are not true)\n",
    "##### 2. Build a desirion tree to see whether users in cntrol and test group are the same. (If same, decision tree can not slipt them.)"
   ]
  }
 ],
 "metadata": {
  "kernelspec": {
   "display_name": "Python 3 (ipykernel)",
   "language": "python",
   "name": "python3"
  },
  "language_info": {
   "codemirror_mode": {
    "name": "ipython",
    "version": 3
   },
   "file_extension": ".py",
   "mimetype": "text/x-python",
   "name": "python",
   "nbconvert_exporter": "python",
   "pygments_lexer": "ipython3",
   "version": "3.8.12"
  },
  "toc": {
   "base_numbering": 1,
   "nav_menu": {},
   "number_sections": true,
   "sideBar": true,
   "skip_h1_title": false,
   "title_cell": "Table of Contents",
   "title_sidebar": "Contents",
   "toc_cell": false,
   "toc_position": {
    "height": "calc(100% - 180px)",
    "left": "10px",
    "top": "150px",
    "width": "303.531px"
   },
   "toc_section_display": true,
   "toc_window_display": true
  }
 },
 "nbformat": 4,
 "nbformat_minor": 5
}
