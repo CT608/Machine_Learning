{
 "cells": [
  {
   "cell_type": "code",
   "execution_count": 1,
   "id": "09fae65c",
   "metadata": {},
   "outputs": [],
   "source": [
    "import math as mt\n",
    "import numpy as np\n",
    "import pandas as pd\n",
    "from scipy.stats import norm"
   ]
  },
  {
   "cell_type": "markdown",
   "id": "c9952ae6",
   "metadata": {},
   "source": [
    "# Baseline\n",
    "## input baseline"
   ]
  },
  {
   "cell_type": "code",
   "execution_count": 2,
   "id": "2df65115",
   "metadata": {},
   "outputs": [
    {
     "data": {
      "text/html": [
       "\n",
       "        <iframe\n",
       "            width=\"800\"\n",
       "            height=\"340\"\n",
       "            src=\"https://pic3.zhimg.com/80/v2-be6105a8adf7b30cbdd8a072c8dfd38a_720w.jpg\"\n",
       "            frameborder=\"0\"\n",
       "            allowfullscreen\n",
       "            \n",
       "        ></iframe>\n",
       "        "
      ],
      "text/plain": [
       "<IPython.lib.display.IFrame at 0x1f5e424fdf0>"
      ]
     },
     "execution_count": 2,
     "metadata": {},
     "output_type": "execute_result"
    }
   ],
   "source": [
    "from IPython.display import IFrame\n",
    "IFrame('https://pic3.zhimg.com/80/v2-be6105a8adf7b30cbdd8a072c8dfd38a_720w.jpg', width=800, height=340)"
   ]
  },
  {
   "cell_type": "code",
   "execution_count": 3,
   "id": "d37d13af",
   "metadata": {},
   "outputs": [],
   "source": [
    "baseline = {\n",
    "    'Cookies' : 40000,\n",
    "    'Clicks' : 3200,\n",
    "    'Enrollemnts' : 660,\n",
    "    'CTP' : 0.08,\n",
    "    'GConversion' : 0.2063,\n",
    "    'NConversion' : 0.109313,\n",
    "    'Retention' : 0.53\n",
    "}"
   ]
  },
  {
   "cell_type": "code",
   "execution_count": 4,
   "id": "6a7f29e7",
   "metadata": {},
   "outputs": [
    {
     "data": {
      "text/html": [
       "\n",
       "        <iframe\n",
       "            width=\"800\"\n",
       "            height=\"340\"\n",
       "            src=\"https://pic3.zhimg.com/80/v2-3ff8fafd3ca04ca32352788bb5caad36_720w.jpg\"\n",
       "            frameborder=\"0\"\n",
       "            allowfullscreen\n",
       "            \n",
       "        ></iframe>\n",
       "        "
      ],
      "text/plain": [
       "<IPython.lib.display.IFrame at 0x1f5e4260550>"
      ]
     },
     "execution_count": 4,
     "metadata": {},
     "output_type": "execute_result"
    }
   ],
   "source": [
    "IFrame('https://pic3.zhimg.com/80/v2-3ff8fafd3ca04ca32352788bb5caad36_720w.jpg', width=800, height=340)"
   ]
  },
  {
   "cell_type": "markdown",
   "id": "721b9436",
   "metadata": {},
   "source": [
    "## change the baseline according the sample size"
   ]
  },
  {
   "cell_type": "code",
   "execution_count": 5,
   "id": "0f3a6ff0",
   "metadata": {},
   "outputs": [
    {
     "data": {
      "text/plain": [
       "{'Cookies': 5000,\n",
       " 'Clicks': 400.0,\n",
       " 'Enrollemnts': 82.5,\n",
       " 'CTP': 0.08,\n",
       " 'GConversion': 0.2063,\n",
       " 'NConversion': 0.109313,\n",
       " 'Retention': 0.53}"
      ]
     },
     "execution_count": 5,
     "metadata": {},
     "output_type": "execute_result"
    }
   ],
   "source": [
    "baseline['Cookies'] = 5000\n",
    "baseline['Clicks'] = baseline['Clicks'] * (5000/40000)\n",
    "baseline['Enrollemnts'] = baseline['Enrollemnts'] * (5000/40000)\n",
    "baseline"
   ]
  },
  {
   "cell_type": "markdown",
   "id": "9c0c932f",
   "metadata": {},
   "source": [
    "# Calculate sd"
   ]
  },
  {
   "cell_type": "code",
   "execution_count": 6,
   "id": "a1aff5d2",
   "metadata": {},
   "outputs": [
    {
     "name": "stdout",
     "output_type": "stream",
     "text": [
      "GConversion Standard Deviation:  0.0202\n",
      "NConversion Standard Deviation:  0.0156\n"
     ]
    }
   ],
   "source": [
    "conversion_dict = {\n",
    "    'GConversion' : [0.01, 'Clicks'],   #第一个对应d_min,第二个对应分母\n",
    "    'NConversion' : [0.0075, 'Clicks']\n",
    "}\n",
    "\n",
    "def cal_sd(conversion, d_min, denominator):\n",
    "    R = {}\n",
    "    R['d_min'] = d_min\n",
    "    R['p'] = baseline[conversion]\n",
    "    R['n'] = baseline[denominator]\n",
    "    R['sd'] = round(mt.sqrt((R['p']*(1-R['p'])) / R['n']), 4)\n",
    "    print(conversion, 'Standard Deviation: ', R['sd'])\n",
    "    \n",
    "conversions = ['GConversion', 'NConversion']\n",
    "for conversion in conversions:\n",
    "    d_min = conversion_dict[conversion][0]\n",
    "    denominator = conversion_dict[conversion][1]\n",
    "    cal_sd(conversion, d_min, denominator)"
   ]
  },
  {
   "cell_type": "markdown",
   "id": "fb2f91de",
   "metadata": {},
   "source": [
    "# Calculate the sample size"
   ]
  },
  {
   "cell_type": "markdown",
   "id": "aa04afdf",
   "metadata": {},
   "source": [
    "## using online calculator"
   ]
  },
  {
   "cell_type": "code",
   "execution_count": 7,
   "id": "c5702c34",
   "metadata": {},
   "outputs": [
    {
     "data": {
      "text/html": [
       "\n",
       "        <iframe\n",
       "            width=\"800\"\n",
       "            height=\"500\"\n",
       "            src=\"https://www.evanmiller.org/ab-testing/sample-size.html#!20;80;5;5;0\"\n",
       "            frameborder=\"0\"\n",
       "            allowfullscreen\n",
       "            \n",
       "        ></iframe>\n",
       "        "
      ],
      "text/plain": [
       "<IPython.lib.display.IFrame at 0x1f5e4260610>"
      ]
     },
     "execution_count": 7,
     "metadata": {},
     "output_type": "execute_result"
    }
   ],
   "source": [
    "from IPython.display import IFrame\n",
    "IFrame('https://www.evanmiller.org/ab-testing/sample-size.html#!20;80;5;5;0', width=800, height=500)"
   ]
  },
  {
   "cell_type": "markdown",
   "id": "4b59f9f7",
   "metadata": {},
   "source": [
    "## using Python to calculate"
   ]
  },
  {
   "cell_type": "code",
   "execution_count": 8,
   "id": "3032fce6",
   "metadata": {},
   "outputs": [
    {
     "name": "stdout",
     "output_type": "stream",
     "text": [
      "25839\n",
      "645975\n",
      "27413\n",
      "685325.0\n"
     ]
    }
   ],
   "source": [
    "#计算sd1和sd2\n",
    "def get_sds(p,d):\n",
    "    sd1=mt.sqrt(2*p*(1-p))\n",
    "    sd2=mt.sqrt(p*(1-p)+(p+d)*(1-(p+d)))\n",
    "    x=[sd1,sd2]\n",
    "    return x\n",
    "\n",
    "#计算z-score\n",
    "def get_z_score(alpha):\n",
    "    return norm.ppf(alpha)\n",
    "\n",
    "#计算样本量\n",
    "def get_sampSize(sds,alpha,beta,d):\n",
    "    n=pow((get_z_score(1-alpha/2)*sds[0]+get_z_score(1-beta)*sds[1]),2)/pow(d,2)\n",
    "    return n\n",
    "\n",
    "#指定基线数据p和d\n",
    "GC={}\n",
    "GC[\"p\"]=baseline[\"GConversion\"]\n",
    "GC[\"d\"]=0.01\n",
    "NC={}\n",
    "NC[\"p\"]=baseline[\"NConversion\"]\n",
    "NC[\"d\"]=0.0075\n",
    "\n",
    "GC[\"SampSize\"]=round(get_sampSize(get_sds(GC[\"p\"],GC[\"d\"]),0.05,0.2,GC[\"d\"]))\n",
    "print(GC[\"SampSize\"])\n",
    "GC[\"SampSize\"]=round(GC[\"SampSize\"]/0.08*2)\n",
    "print(GC[\"SampSize\"])\n",
    "\n",
    "NC[\"SampSize\"]=round(get_sampSize(get_sds(NC[\"p\"],NC[\"d\"]),0.05,0.2,NC[\"d\"]))\n",
    "print(NC[\"SampSize\"])\n",
    "NC[\"SampSize\"]=NC[\"SampSize\"]/0.08*2\n",
    "print(NC[\"SampSize\"])"
   ]
  },
  {
   "cell_type": "code",
   "execution_count": null,
   "id": "0533ccc2",
   "metadata": {},
   "outputs": [],
   "source": []
  },
  {
   "cell_type": "markdown",
   "id": "adfccf19",
   "metadata": {},
   "source": [
    "# Import data"
   ]
  },
  {
   "cell_type": "code",
   "execution_count": 9,
   "id": "02a37898",
   "metadata": {},
   "outputs": [
    {
     "data": {
      "text/html": [
       "<div>\n",
       "<style scoped>\n",
       "    .dataframe tbody tr th:only-of-type {\n",
       "        vertical-align: middle;\n",
       "    }\n",
       "\n",
       "    .dataframe tbody tr th {\n",
       "        vertical-align: top;\n",
       "    }\n",
       "\n",
       "    .dataframe thead th {\n",
       "        text-align: right;\n",
       "    }\n",
       "</style>\n",
       "<table border=\"1\" class=\"dataframe\">\n",
       "  <thead>\n",
       "    <tr style=\"text-align: right;\">\n",
       "      <th></th>\n",
       "      <th>Date</th>\n",
       "      <th>Pageviews</th>\n",
       "      <th>Clicks</th>\n",
       "      <th>Enrollments</th>\n",
       "      <th>Payments</th>\n",
       "    </tr>\n",
       "  </thead>\n",
       "  <tbody>\n",
       "    <tr>\n",
       "      <th>0</th>\n",
       "      <td>Sat, Oct 11</td>\n",
       "      <td>7723</td>\n",
       "      <td>687</td>\n",
       "      <td>134.0</td>\n",
       "      <td>70.0</td>\n",
       "    </tr>\n",
       "    <tr>\n",
       "      <th>1</th>\n",
       "      <td>Sun, Oct 12</td>\n",
       "      <td>9102</td>\n",
       "      <td>779</td>\n",
       "      <td>147.0</td>\n",
       "      <td>70.0</td>\n",
       "    </tr>\n",
       "    <tr>\n",
       "      <th>2</th>\n",
       "      <td>Mon, Oct 13</td>\n",
       "      <td>10511</td>\n",
       "      <td>909</td>\n",
       "      <td>167.0</td>\n",
       "      <td>95.0</td>\n",
       "    </tr>\n",
       "    <tr>\n",
       "      <th>3</th>\n",
       "      <td>Tue, Oct 14</td>\n",
       "      <td>9871</td>\n",
       "      <td>836</td>\n",
       "      <td>156.0</td>\n",
       "      <td>105.0</td>\n",
       "    </tr>\n",
       "    <tr>\n",
       "      <th>4</th>\n",
       "      <td>Wed, Oct 15</td>\n",
       "      <td>10014</td>\n",
       "      <td>837</td>\n",
       "      <td>163.0</td>\n",
       "      <td>64.0</td>\n",
       "    </tr>\n",
       "  </tbody>\n",
       "</table>\n",
       "</div>"
      ],
      "text/plain": [
       "          Date  Pageviews  Clicks  Enrollments  Payments\n",
       "0  Sat, Oct 11       7723     687        134.0      70.0\n",
       "1  Sun, Oct 12       9102     779        147.0      70.0\n",
       "2  Mon, Oct 13      10511     909        167.0      95.0\n",
       "3  Tue, Oct 14       9871     836        156.0     105.0\n",
       "4  Wed, Oct 15      10014     837        163.0      64.0"
      ]
     },
     "execution_count": 9,
     "metadata": {},
     "output_type": "execute_result"
    }
   ],
   "source": [
    "control = pd.read_csv('control_data.csv')\n",
    "experiment = pd.read_csv('experiment_data.csv')\n",
    "control.head()"
   ]
  },
  {
   "cell_type": "code",
   "execution_count": 10,
   "id": "1ea99d6c",
   "metadata": {},
   "outputs": [
    {
     "name": "stdout",
     "output_type": "stream",
     "text": [
      "Control:\n",
      "Date           Sat, Oct 11Sun, Oct 12Mon, Oct 13Tue, Oct 14We...\n",
      "Pageviews                                                 345543\n",
      "Clicks                                                     28378\n",
      "Enrollments                                               3785.0\n",
      "Payments                                                  2033.0\n",
      "dtype: object\n",
      "\n",
      "Experiment:\n",
      "Date           Sat, Oct 11Sun, Oct 12Mon, Oct 13Tue, Oct 14We...\n",
      "Pageviews                                                 344660\n",
      "Clicks                                                     28325\n",
      "Enrollments                                               3423.0\n",
      "Payments                                                  1945.0\n",
      "dtype: object\n"
     ]
    }
   ],
   "source": [
    "print(\"Control:\")\n",
    "print(control.sum())\n",
    "print(\"\\nExperiment:\")\n",
    "print(experiment.sum())"
   ]
  },
  {
   "cell_type": "markdown",
   "id": "492a9110",
   "metadata": {},
   "source": [
    "# Check robustness\n",
    "## Check pageview\n",
    "### Pageview"
   ]
  },
  {
   "cell_type": "markdown",
   "id": "a1af21b7",
   "metadata": {},
   "source": [
    "###### Method 1"
   ]
  },
  {
   "cell_type": "code",
   "execution_count": 12,
   "id": "4f61c770",
   "metadata": {},
   "outputs": [
    {
     "name": "stdout",
     "output_type": "stream",
     "text": [
      "Confidence Interval :  [0.4988 0.5012]\n"
     ]
    }
   ],
   "source": [
    "pageview_control = control['Pageviews'].sum()\n",
    "pageview_experiment = experiment['Pageviews'].sum()\n",
    "pageview_total = pageview_control + pageview_experiment\n",
    "\n",
    "p = 0.5\n",
    "alpha = 0.05\n",
    "p_hat = round(pageview_control / pageview_total, 4)\n",
    "sd = mt.sqrt(p*(1-p) / pageview_total)\n",
    "ME = round(get_z_score(1 - (alpha/2)) * sd, 4)\n",
    "CI = np.array([p-ME, p+ME])\n",
    "print('Confidence Interval : ', CI)"
   ]
  },
  {
   "cell_type": "markdown",
   "id": "690a3934",
   "metadata": {},
   "source": [
    "###### Method 2"
   ]
  },
  {
   "cell_type": "code",
   "execution_count": 13,
   "id": "b1f40c8a",
   "metadata": {},
   "outputs": [
    {
     "name": "stdout",
     "output_type": "stream",
     "text": [
      "Confidence Interval :  [344287. 345916.]\n",
      "345543 344660\n"
     ]
    }
   ],
   "source": [
    "mean = pageview_total * p\n",
    "sd = mt.sqrt(pageview_total * p * (1-p))\n",
    "z = get_z_score(1 - (alpha/2))\n",
    "left = round(mean - z*sd, 0)\n",
    "right = round(mean + z*sd, 0)\n",
    "CI = np.array([left, right])\n",
    "print('Confidence Interval : ', CI)\n",
    "print(pageview_control, pageview_experiment)"
   ]
  },
  {
   "cell_type": "markdown",
   "id": "945b0ed9",
   "metadata": {},
   "source": [
    "### Click"
   ]
  },
  {
   "cell_type": "code",
   "execution_count": 15,
   "id": "b978a220",
   "metadata": {},
   "outputs": [
    {
     "name": "stdout",
     "output_type": "stream",
     "text": [
      "Confidence Interval :  [0.4959 0.5041]\n"
     ]
    }
   ],
   "source": [
    "click_control = control['Clicks'].sum()\n",
    "click_experiment = experiment['Clicks'].sum()\n",
    "click_total = click_control + click_experiment\n",
    "\n",
    "p = 0.5\n",
    "alpha = 0.05\n",
    "p_hat = round(click_control / click_total, 4)\n",
    "sd = mt.sqrt(p*(1-p) / click_total)\n",
    "ME = round(get_z_score(1 - (alpha/2)) * sd, 4)\n",
    "CI = np.array([p-ME, p+ME])\n",
    "print('Confidence Interval : ', CI)"
   ]
  },
  {
   "cell_type": "markdown",
   "id": "6a508b4d",
   "metadata": {},
   "source": [
    "### CTP( clicks / pageviews)"
   ]
  },
  {
   "cell_type": "code",
   "execution_count": 48,
   "id": "8993a9b7",
   "metadata": {},
   "outputs": [
    {
     "name": "stdout",
     "output_type": "stream",
     "text": [
      "置信区间的范围在 -0.0013 和 0.0013 之间，样本值是 -0.0001\n"
     ]
    }
   ],
   "source": [
    "ctp_control = click_control / pageview_control\n",
    "ctp_experiment = click_experiment / pageview_experiment\n",
    "d_hat = round(ctp_control-ctp_experiment,4)\n",
    "p_pooled=click_total/pageview_total\n",
    "sd_pooled=mt.sqrt(p_pooled*(1-p_pooled)*(1/pageview_control+1/pageview_experiment))\n",
    "ME=round(get_z_score(1-(alpha/2))*sd_pooled,4)\n",
    "print (\"置信区间的范围在\",0-ME,\"和\",0+ME,\"之间，样本值是\",d_hat)"
   ]
  },
  {
   "cell_type": "markdown",
   "id": "f283594e",
   "metadata": {},
   "source": [
    "# Check core index"
   ]
  },
  {
   "cell_type": "code",
   "execution_count": null,
   "id": "a20aebff",
   "metadata": {},
   "outputs": [],
   "source": [
    "clicks_cont=control[\"Clicks\"].loc[control[\"Enrollments\"].notnull()].sum()\n",
    "clicks_exp=experiment[\"Clicks\"].loc[experiment[\"Enrollments\"].notnull()].sum()\n",
    "\n",
    "enrol_control = control['Enrollments'].sum()\n",
    "enrol_experiment = experiment['Enrollments'].sum()\n",
    "GConversion_control = enrol_control / clicks_cont\n",
    "GConversion_experiment = enrol_experiment / clicks_exp\n",
    "d_hat = round(GConversion_control - GConversion_experiment, 4)\n",
    "p_pooled = (enrol_control + enrol_experiment) / (clicks_cont + clicks_exp)\n",
    "sd_pooled = mt.sqrt(p_pooled * (1-p_pooled) * (1/clicks_cont + 1/clicks_exp))\n",
    "ME=round(get_z_score(1-(alpha/2))*sd_pooled,4)\n",
    "print (\"置信区间的范围在\",d_hat-ME,\"和\",d_hat+ME,\"之间，样本值是\",d_hat)\n",
    "\n",
    "print(GConversion_control, GConversion_experiment)"
   ]
  },
  {
   "cell_type": "code",
   "execution_count": null,
   "id": "9088bc19",
   "metadata": {},
   "outputs": [],
   "source": [
    "\n",
    "print(clicks_cont, clicks_exp)\n",
    "print(click_control, click_experiment)"
   ]
  }
 ],
 "metadata": {
  "kernelspec": {
   "display_name": "Python 3 (ipykernel)",
   "language": "python",
   "name": "python3"
  },
  "language_info": {
   "codemirror_mode": {
    "name": "ipython",
    "version": 3
   },
   "file_extension": ".py",
   "mimetype": "text/x-python",
   "name": "python",
   "nbconvert_exporter": "python",
   "pygments_lexer": "ipython3",
   "version": "3.8.12"
  },
  "toc": {
   "base_numbering": 1,
   "nav_menu": {},
   "number_sections": true,
   "sideBar": true,
   "skip_h1_title": false,
   "title_cell": "Table of Contents",
   "title_sidebar": "Contents",
   "toc_cell": false,
   "toc_position": {
    "height": "calc(100% - 180px)",
    "left": "10px",
    "top": "150px",
    "width": "273.188px"
   },
   "toc_section_display": true,
   "toc_window_display": true
  }
 },
 "nbformat": 4,
 "nbformat_minor": 5
}
